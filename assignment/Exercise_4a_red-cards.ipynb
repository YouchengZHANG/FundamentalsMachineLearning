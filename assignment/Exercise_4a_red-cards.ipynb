{
 "cells": [
  {
   "cell_type": "markdown",
   "metadata": {
    "id": "LZFQE5F7jbov"
   },
   "source": [
    "#### andres-quintero_daria-doncevic_youcheng-zhang\n",
    "\n",
    "# 2 Red Cards Study"
   ]
  },
  {
   "cell_type": "markdown",
   "metadata": {
    "id": "19ZUJiuGmT5l"
   },
   "source": [
    "## 2.1 Loading and Cleaning the Data"
   ]
  },
  {
   "cell_type": "code",
   "execution_count": 4,
   "metadata": {
    "id": "pc_1v-nmloab"
   },
   "outputs": [],
   "source": [
    "# import python libraries\n",
    "import os \n",
    "from io import BytesIO\n",
    "#from zipfile import ZipFile\n",
    "#import requests\n",
    "import pandas as pd\n",
    "import numpy as np\n",
    "import pickle\n",
    "import matplotlib.pyplot as plt       \n",
    "from sklearn.model_selection import KFold\n",
    "from scipy.sparse.linalg import lsqr"
   ]
  },
  {
   "cell_type": "code",
   "execution_count": 5,
   "metadata": {
    "id": "ZWq9GcvxjgqO"
   },
   "outputs": [],
   "source": [
    "# retrieve red cards data from url\n",
    "#url = 'https://osf.io/fv8c3/download'\n",
    "#r = requests.get(url).content\n",
    "#file = ZipFile(BytesIO(r))\n",
    "data = os.path.join('CrowdstormingDataJuly1st.csv') \n",
    "df = pd.read_csv(data)"
   ]
  },
  {
   "cell_type": "code",
   "execution_count": 6,
   "metadata": {
    "colab": {
     "base_uri": "https://localhost:8080/",
     "height": 309
    },
    "id": "DcblwqQUNyDw",
    "outputId": "ded3d50f-79d9-4773-97e2-ca837a2f4912",
    "scrolled": false
   },
   "outputs": [
    {
     "data": {
      "text/html": [
       "<div>\n",
       "<style scoped>\n",
       "    .dataframe tbody tr th:only-of-type {\n",
       "        vertical-align: middle;\n",
       "    }\n",
       "\n",
       "    .dataframe tbody tr th {\n",
       "        vertical-align: top;\n",
       "    }\n",
       "\n",
       "    .dataframe thead th {\n",
       "        text-align: right;\n",
       "    }\n",
       "</style>\n",
       "<table border=\"1\" class=\"dataframe\">\n",
       "  <thead>\n",
       "    <tr style=\"text-align: right;\">\n",
       "      <th></th>\n",
       "      <th>playerShort</th>\n",
       "      <th>player</th>\n",
       "      <th>club</th>\n",
       "      <th>leagueCountry</th>\n",
       "      <th>birthday</th>\n",
       "      <th>height</th>\n",
       "      <th>weight</th>\n",
       "      <th>position</th>\n",
       "      <th>games</th>\n",
       "      <th>victories</th>\n",
       "      <th>...</th>\n",
       "      <th>rater2</th>\n",
       "      <th>refNum</th>\n",
       "      <th>refCountry</th>\n",
       "      <th>Alpha_3</th>\n",
       "      <th>meanIAT</th>\n",
       "      <th>nIAT</th>\n",
       "      <th>seIAT</th>\n",
       "      <th>meanExp</th>\n",
       "      <th>nExp</th>\n",
       "      <th>seExp</th>\n",
       "    </tr>\n",
       "  </thead>\n",
       "  <tbody>\n",
       "    <tr>\n",
       "      <th>0</th>\n",
       "      <td>lucas-wilchez</td>\n",
       "      <td>Lucas Wilchez</td>\n",
       "      <td>Real Zaragoza</td>\n",
       "      <td>Spain</td>\n",
       "      <td>31.08.1983</td>\n",
       "      <td>177.0</td>\n",
       "      <td>72.0</td>\n",
       "      <td>Attacking Midfielder</td>\n",
       "      <td>1</td>\n",
       "      <td>0</td>\n",
       "      <td>...</td>\n",
       "      <td>0.50</td>\n",
       "      <td>1</td>\n",
       "      <td>1</td>\n",
       "      <td>GRC</td>\n",
       "      <td>0.326391</td>\n",
       "      <td>712.0</td>\n",
       "      <td>0.000564</td>\n",
       "      <td>0.396000</td>\n",
       "      <td>750.0</td>\n",
       "      <td>0.002696</td>\n",
       "    </tr>\n",
       "    <tr>\n",
       "      <th>1</th>\n",
       "      <td>john-utaka</td>\n",
       "      <td>John Utaka</td>\n",
       "      <td>Montpellier HSC</td>\n",
       "      <td>France</td>\n",
       "      <td>08.01.1982</td>\n",
       "      <td>179.0</td>\n",
       "      <td>82.0</td>\n",
       "      <td>Right Winger</td>\n",
       "      <td>1</td>\n",
       "      <td>0</td>\n",
       "      <td>...</td>\n",
       "      <td>0.75</td>\n",
       "      <td>2</td>\n",
       "      <td>2</td>\n",
       "      <td>ZMB</td>\n",
       "      <td>0.203375</td>\n",
       "      <td>40.0</td>\n",
       "      <td>0.010875</td>\n",
       "      <td>-0.204082</td>\n",
       "      <td>49.0</td>\n",
       "      <td>0.061504</td>\n",
       "    </tr>\n",
       "    <tr>\n",
       "      <th>2</th>\n",
       "      <td>abdon-prats</td>\n",
       "      <td>Abdón Prats</td>\n",
       "      <td>RCD Mallorca</td>\n",
       "      <td>Spain</td>\n",
       "      <td>17.12.1992</td>\n",
       "      <td>181.0</td>\n",
       "      <td>79.0</td>\n",
       "      <td>NaN</td>\n",
       "      <td>1</td>\n",
       "      <td>0</td>\n",
       "      <td>...</td>\n",
       "      <td>NaN</td>\n",
       "      <td>3</td>\n",
       "      <td>3</td>\n",
       "      <td>ESP</td>\n",
       "      <td>0.369894</td>\n",
       "      <td>1785.0</td>\n",
       "      <td>0.000229</td>\n",
       "      <td>0.588297</td>\n",
       "      <td>1897.0</td>\n",
       "      <td>0.001002</td>\n",
       "    </tr>\n",
       "    <tr>\n",
       "      <th>3</th>\n",
       "      <td>pablo-mari</td>\n",
       "      <td>Pablo Marí</td>\n",
       "      <td>RCD Mallorca</td>\n",
       "      <td>Spain</td>\n",
       "      <td>31.08.1993</td>\n",
       "      <td>191.0</td>\n",
       "      <td>87.0</td>\n",
       "      <td>Center Back</td>\n",
       "      <td>1</td>\n",
       "      <td>1</td>\n",
       "      <td>...</td>\n",
       "      <td>NaN</td>\n",
       "      <td>3</td>\n",
       "      <td>3</td>\n",
       "      <td>ESP</td>\n",
       "      <td>0.369894</td>\n",
       "      <td>1785.0</td>\n",
       "      <td>0.000229</td>\n",
       "      <td>0.588297</td>\n",
       "      <td>1897.0</td>\n",
       "      <td>0.001002</td>\n",
       "    </tr>\n",
       "    <tr>\n",
       "      <th>4</th>\n",
       "      <td>ruben-pena</td>\n",
       "      <td>Rubén Peña</td>\n",
       "      <td>Real Valladolid</td>\n",
       "      <td>Spain</td>\n",
       "      <td>18.07.1991</td>\n",
       "      <td>172.0</td>\n",
       "      <td>70.0</td>\n",
       "      <td>Right Midfielder</td>\n",
       "      <td>1</td>\n",
       "      <td>1</td>\n",
       "      <td>...</td>\n",
       "      <td>NaN</td>\n",
       "      <td>3</td>\n",
       "      <td>3</td>\n",
       "      <td>ESP</td>\n",
       "      <td>0.369894</td>\n",
       "      <td>1785.0</td>\n",
       "      <td>0.000229</td>\n",
       "      <td>0.588297</td>\n",
       "      <td>1897.0</td>\n",
       "      <td>0.001002</td>\n",
       "    </tr>\n",
       "  </tbody>\n",
       "</table>\n",
       "<p>5 rows × 28 columns</p>\n",
       "</div>"
      ],
      "text/plain": [
       "     playerShort         player             club leagueCountry    birthday  \\\n",
       "0  lucas-wilchez  Lucas Wilchez    Real Zaragoza         Spain  31.08.1983   \n",
       "1     john-utaka     John Utaka  Montpellier HSC        France  08.01.1982   \n",
       "2    abdon-prats    Abdón Prats     RCD Mallorca         Spain  17.12.1992   \n",
       "3     pablo-mari     Pablo Marí     RCD Mallorca         Spain  31.08.1993   \n",
       "4     ruben-pena     Rubén Peña  Real Valladolid         Spain  18.07.1991   \n",
       "\n",
       "   height  weight              position  games  victories  ...  rater2  \\\n",
       "0   177.0    72.0  Attacking Midfielder      1          0  ...    0.50   \n",
       "1   179.0    82.0          Right Winger      1          0  ...    0.75   \n",
       "2   181.0    79.0                   NaN      1          0  ...     NaN   \n",
       "3   191.0    87.0           Center Back      1          1  ...     NaN   \n",
       "4   172.0    70.0      Right Midfielder      1          1  ...     NaN   \n",
       "\n",
       "   refNum  refCountry  Alpha_3   meanIAT    nIAT     seIAT   meanExp    nExp  \\\n",
       "0       1           1      GRC  0.326391   712.0  0.000564  0.396000   750.0   \n",
       "1       2           2      ZMB  0.203375    40.0  0.010875 -0.204082    49.0   \n",
       "2       3           3      ESP  0.369894  1785.0  0.000229  0.588297  1897.0   \n",
       "3       3           3      ESP  0.369894  1785.0  0.000229  0.588297  1897.0   \n",
       "4       3           3      ESP  0.369894  1785.0  0.000229  0.588297  1897.0   \n",
       "\n",
       "      seExp  \n",
       "0  0.002696  \n",
       "1  0.061504  \n",
       "2  0.001002  \n",
       "3  0.001002  \n",
       "4  0.001002  \n",
       "\n",
       "[5 rows x 28 columns]"
      ]
     },
     "execution_count": 6,
     "metadata": {},
     "output_type": "execute_result"
    }
   ],
   "source": [
    "# have a look at the dataframe\n",
    "df.head()"
   ]
  },
  {
   "cell_type": "markdown",
   "metadata": {
    "id": "zofGiWDJYWkK"
   },
   "source": [
    "We will now apply some filtering steps to the dataframe. We speculate that a player's build might also play a role, therefore we will calculate the BMI and then drop weight and height. On the contrary we don't think age plays a role, therefore we drop it.\n",
    "Club and league were also removed because they change frequently for the players and only reflect the time point of data collection but not neccessarily the time point a card was received. We furthermore keep the position, as players in certain positions are more likely to commit fouls and therefore also to receive red cards. We sum the yellowReds and the redCards and then we normalize them per games. We also compute the winning and tie/defeat rate, as teams and players who are winning the game are probably less likely to commit fouls/receive cards than the other way around. Afterwards we can drop games, victories, ties, defeats, yellowCards, yellowReds and redCards. We ignore the yellow cards, as the research question is specifically stating red cards.\n",
    "For the skin color, we calculate the average rating and then drop rater1 and rater2. \n",
    "We will furthermore drop the columns player (keep playerShort), photoID, refCountry (neccessary info is already in the columns meanIAT and meanExp), Alpha_3 (looks like a country, but no info in the README) and nIAT, seIAT, nExp and seExp.\n",
    "\n",
    "We then filter the dataframe further by removing rows for which we have no information about a player's BMI or skin color. And we remove referees with fewer than 10 appearances.\n",
    "\n",
    "Below are the step-wise details of the data preprocessing."
   ]
  },
  {
   "cell_type": "code",
   "execution_count": 7,
   "metadata": {
    "colab": {
     "base_uri": "https://localhost:8080/",
     "height": 309
    },
    "id": "xESbjxMaweMA",
    "outputId": "cec0eb12-6a34-4e3e-bc79-3701b6a7e635",
    "scrolled": false
   },
   "outputs": [],
   "source": [
    "# filter the data frame \n",
    "# What relevant features might be missing, but can be computed? \n",
    "# calculate bmi\n",
    "# calculate yellow and red cards per game and separately for victories and ties + defeats \n",
    "# take the mean of the two raters \n",
    "# remove the columns player, club, age, photoID, Alpha_3, nIAT, seIAT, nExp, seExp\n",
    "\n",
    "df['bmi'] = df['weight']/((df['height']/100)**2)\n",
    "df['redPerGame'] = (df['yellowReds'] + df['redCards'])/df['games']\n",
    "df['winningRate'] = (df['victories']/df['games'])\n",
    "df['losingRate'] = (df['ties'] + df['defeats'])/df['games']\n",
    "df['skincolor'] = (df['rater1'] + df['rater2'])/2"
   ]
  },
  {
   "cell_type": "code",
   "execution_count": 8,
   "metadata": {
    "scrolled": false
   },
   "outputs": [
    {
     "data": {
      "image/png": "[encoded data removed]",
      "text/plain": [
       "<Figure size 432x288 with 4 Axes>"
      ]
     },
     "metadata": {
      "needs_background": "light"
     },
     "output_type": "display_data"
    }
   ],
   "source": [
    "# Are there missing data values?\n",
    "# To address the issue, simply removal or imputation\n",
    "# How good are the skin color ratings? Do the raters agree?\n",
    "# The two raters disagree about player skintone quite often. \n",
    "# Besides censoring data in players photos also leads to missing color ratings.\n",
    "df['skinColDiff'] = df['rater1'] - df['rater2']\n",
    "ra = df['rater1'] == df['rater2']\n",
    "ra.value_counts()\n",
    "\n",
    "var = ['skincolor','rater1','rater2','skinColDiff']\n",
    "fig, ax = plt.subplots(1,len(var))\n",
    "\n",
    "for i in range(len(var)):\n",
    "    ax[i].hist(df[var[i]], bins = 5, color = np.random.rand(3,))\n",
    "    ax[i].set_title(var[i])\n",
    "\n",
    "plt.show()"
   ]
  },
  {
   "cell_type": "code",
   "execution_count": null,
   "metadata": {},
   "outputs": [],
   "source": [
    "# Should referees with very few appearances be excluded from the dataset?\n",
    "# We also calculate the number of appearances of referees and number of referee dyads pair (refCount)\n",
    "# We deal with this covariates in the several later step.\n",
    "\n",
    "df['refCount']=0\n",
    "\n",
    "refs=pd.unique(df['refNum'].values.ravel())\n",
    "#for each ref, count their dyads\n",
    "\n",
    "for r in refs:\n",
    "    df['refCount'][df['refNum']==r]= len(df[df['refNum']==r])  "
   ]
  },
  {
   "cell_type": "code",
   "execution_count": 10,
   "metadata": {},
   "outputs": [
    {
     "data": {
      "image/png": "[encoded data removed]",
      "text/plain": [
       "<Figure size 432x288 with 2 Axes>"
      ]
     },
     "metadata": {
      "needs_background": "light"
     },
     "output_type": "display_data"
    }
   ],
   "source": [
    "fig, ax = plt.subplots(1,2)\n",
    "ax[0].hist(df['refNum'].value_counts(), bins = 100, color = np.random.rand(3,))\n",
    "ax[0].set_xlabel('number of referee occurances')\n",
    "ax[0].set_ylabel('frequency')\n",
    "ax[1].hist(df['refCount'].value_counts(),  bins = 40, color = np.random.rand(3,))\n",
    "ax[1].set_xlabel('number of referee dyads pair')\n",
    "ax[1].set_ylabel('frequency')\n",
    "plt.show()"
   ]
  },
  {
   "cell_type": "code",
   "execution_count": 11,
   "metadata": {},
   "outputs": [
    {
     "data": {
      "image/png": "[encoded data removed]",
      "text/plain": [
       "<Figure size 576x432 with 4 Axes>"
      ]
     },
     "metadata": {
      "needs_background": "light"
     },
     "output_type": "display_data"
    }
   ],
   "source": [
    "# In addition, we check the IAT and Exp statistics\n",
    "\n",
    "fig, ax = plt.subplots(2,2, figsize=(8,6))\n",
    "c1, c2 = np.random.rand(3,), np.random.rand(3,)\n",
    "ax[0,0].hist( np.log10(df.drop_duplicates(subset=['nIAT'])['nIAT']) ,bins=30 ,color = c1)\n",
    "ax[0,0].set_title('log(nIAT)')\n",
    "ax[0,1].hist( np.log10(df.drop_duplicates(subset=['nExp'])['nExp']) ,bins=30 ,color = c2)\n",
    "ax[0,1].set_title('log(nExp)')\n",
    "ax[1,0].scatter(np.log10(df.drop_duplicates(subset=['nIAT'])['nIAT']), df.drop_duplicates(subset=['nIAT'])['meanIAT'], color = c1)\n",
    "ax[1,0].set_title('MeanIAT ~ log(nIAT)')\n",
    "ax[1,1].scatter(np.log10(df.drop_duplicates(subset=['nExp'])['nExp']), df.drop_duplicates(subset=['nExp'])['meanExp'], color = c2)\n",
    "ax[1,1].set_title('MeanExp ~ log(nExp)')\n",
    "plt.show()\n"
   ]
  },
  {
   "cell_type": "code",
   "execution_count": 12,
   "metadata": {},
   "outputs": [
    {
     "data": {
      "text/html": [
       "<div>\n",
       "<style scoped>\n",
       "    .dataframe tbody tr th:only-of-type {\n",
       "        vertical-align: middle;\n",
       "    }\n",
       "\n",
       "    .dataframe tbody tr th {\n",
       "        vertical-align: top;\n",
       "    }\n",
       "\n",
       "    .dataframe thead th {\n",
       "        text-align: right;\n",
       "    }\n",
       "</style>\n",
       "<table border=\"1\" class=\"dataframe\">\n",
       "  <thead>\n",
       "    <tr style=\"text-align: right;\">\n",
       "      <th></th>\n",
       "      <th>playerShort</th>\n",
       "      <th>position</th>\n",
       "      <th>refNum</th>\n",
       "      <th>meanIAT</th>\n",
       "      <th>meanExp</th>\n",
       "      <th>bmi</th>\n",
       "      <th>redPerGame</th>\n",
       "      <th>winningRate</th>\n",
       "      <th>losingRate</th>\n",
       "      <th>skincolor</th>\n",
       "    </tr>\n",
       "  </thead>\n",
       "  <tbody>\n",
       "    <tr>\n",
       "      <th>5</th>\n",
       "      <td>aaron-hughes</td>\n",
       "      <td>Center Back</td>\n",
       "      <td>4</td>\n",
       "      <td>0.325185</td>\n",
       "      <td>0.538462</td>\n",
       "      <td>21.434609</td>\n",
       "      <td>0.0</td>\n",
       "      <td>0.0</td>\n",
       "      <td>1.0</td>\n",
       "      <td>0.125</td>\n",
       "    </tr>\n",
       "    <tr>\n",
       "      <th>6</th>\n",
       "      <td>aleksandar-kolarov</td>\n",
       "      <td>Left Fullback</td>\n",
       "      <td>4</td>\n",
       "      <td>0.325185</td>\n",
       "      <td>0.538462</td>\n",
       "      <td>22.877406</td>\n",
       "      <td>0.0</td>\n",
       "      <td>1.0</td>\n",
       "      <td>0.0</td>\n",
       "      <td>0.125</td>\n",
       "    </tr>\n",
       "    <tr>\n",
       "      <th>7</th>\n",
       "      <td>alexander-tettey</td>\n",
       "      <td>Defensive Midfielder</td>\n",
       "      <td>4</td>\n",
       "      <td>0.325185</td>\n",
       "      <td>0.538462</td>\n",
       "      <td>20.987654</td>\n",
       "      <td>0.0</td>\n",
       "      <td>0.0</td>\n",
       "      <td>1.0</td>\n",
       "      <td>1.000</td>\n",
       "    </tr>\n",
       "    <tr>\n",
       "      <th>8</th>\n",
       "      <td>anders-lindegaard</td>\n",
       "      <td>Goalkeeper</td>\n",
       "      <td>4</td>\n",
       "      <td>0.325185</td>\n",
       "      <td>0.538462</td>\n",
       "      <td>21.477087</td>\n",
       "      <td>0.0</td>\n",
       "      <td>0.0</td>\n",
       "      <td>1.0</td>\n",
       "      <td>0.250</td>\n",
       "    </tr>\n",
       "    <tr>\n",
       "      <th>9</th>\n",
       "      <td>andreas-beck</td>\n",
       "      <td>Right Fullback</td>\n",
       "      <td>4</td>\n",
       "      <td>0.325185</td>\n",
       "      <td>0.538462</td>\n",
       "      <td>21.604938</td>\n",
       "      <td>0.0</td>\n",
       "      <td>1.0</td>\n",
       "      <td>0.0</td>\n",
       "      <td>0.000</td>\n",
       "    </tr>\n",
       "  </tbody>\n",
       "</table>\n",
       "</div>"
      ],
      "text/plain": [
       "          playerShort              position  refNum   meanIAT   meanExp  \\\n",
       "5        aaron-hughes           Center Back       4  0.325185  0.538462   \n",
       "6  aleksandar-kolarov         Left Fullback       4  0.325185  0.538462   \n",
       "7    alexander-tettey  Defensive Midfielder       4  0.325185  0.538462   \n",
       "8   anders-lindegaard            Goalkeeper       4  0.325185  0.538462   \n",
       "9        andreas-beck        Right Fullback       4  0.325185  0.538462   \n",
       "\n",
       "         bmi  redPerGame  winningRate  losingRate  skincolor  \n",
       "5  21.434609         0.0          0.0         1.0      0.125  \n",
       "6  22.877406         0.0          1.0         0.0      0.125  \n",
       "7  20.987654         0.0          0.0         1.0      1.000  \n",
       "8  21.477087         0.0          0.0         1.0      0.250  \n",
       "9  21.604938         0.0          1.0         0.0      0.000  "
      ]
     },
     "execution_count": 12,
     "metadata": {},
     "output_type": "execute_result"
    }
   ],
   "source": [
    "df = df.drop(columns=['player','club','leagueCountry','birthday','height','weight','games','victories','ties','defeats', 'goals', 'yellowCards', 'yellowReds', 'redCards', 'photoID', 'rater1', 'rater2','refCountry', 'Alpha_3', 'nIAT', 'seIAT', 'nExp', 'seExp','skinColDiff','refCount'])\n",
    "\n",
    "# remove rows with missing values\n",
    "df = df.dropna(axis=0)\n",
    "\n",
    "# remove referees that have less or equal to 10 appearances\n",
    "referees = df['refNum'].value_counts()\n",
    "good_referees = referees[referees >= 10].index.to_numpy()\n",
    "df = df.loc[df['refNum'].isin(good_referees)]\n",
    "\n",
    "# inspect the filtered dataframe\n",
    "df.head()"
   ]
  },
  {
   "cell_type": "code",
   "execution_count": 13,
   "metadata": {
    "colab": {
     "base_uri": "https://localhost:8080/"
    },
    "id": "MhbJH6zyi-JJ",
    "outputId": "cf255b6c-21c2-49a8-df3e-76eb0e697f85"
   },
   "outputs": [
    {
     "data": {
      "text/html": [
       "<div>\n",
       "<style scoped>\n",
       "    .dataframe tbody tr th:only-of-type {\n",
       "        vertical-align: middle;\n",
       "    }\n",
       "\n",
       "    .dataframe tbody tr th {\n",
       "        vertical-align: top;\n",
       "    }\n",
       "\n",
       "    .dataframe thead th {\n",
       "        text-align: right;\n",
       "    }\n",
       "</style>\n",
       "<table border=\"1\" class=\"dataframe\">\n",
       "  <thead>\n",
       "    <tr style=\"text-align: right;\">\n",
       "      <th></th>\n",
       "      <th>skincolor</th>\n",
       "      <th>meanIAT</th>\n",
       "      <th>meanExp</th>\n",
       "      <th>bmi</th>\n",
       "      <th>winningRate</th>\n",
       "      <th>position</th>\n",
       "    </tr>\n",
       "  </thead>\n",
       "  <tbody>\n",
       "    <tr>\n",
       "      <th>5</th>\n",
       "      <td>0.125</td>\n",
       "      <td>0.325185</td>\n",
       "      <td>0.538462</td>\n",
       "      <td>21.434609</td>\n",
       "      <td>0.0</td>\n",
       "      <td>Center Back</td>\n",
       "    </tr>\n",
       "    <tr>\n",
       "      <th>6</th>\n",
       "      <td>0.125</td>\n",
       "      <td>0.325185</td>\n",
       "      <td>0.538462</td>\n",
       "      <td>22.877406</td>\n",
       "      <td>1.0</td>\n",
       "      <td>Left Fullback</td>\n",
       "    </tr>\n",
       "    <tr>\n",
       "      <th>7</th>\n",
       "      <td>1.000</td>\n",
       "      <td>0.325185</td>\n",
       "      <td>0.538462</td>\n",
       "      <td>20.987654</td>\n",
       "      <td>0.0</td>\n",
       "      <td>Defensive Midfielder</td>\n",
       "    </tr>\n",
       "    <tr>\n",
       "      <th>8</th>\n",
       "      <td>0.250</td>\n",
       "      <td>0.325185</td>\n",
       "      <td>0.538462</td>\n",
       "      <td>21.477087</td>\n",
       "      <td>0.0</td>\n",
       "      <td>Goalkeeper</td>\n",
       "    </tr>\n",
       "    <tr>\n",
       "      <th>9</th>\n",
       "      <td>0.000</td>\n",
       "      <td>0.325185</td>\n",
       "      <td>0.538462</td>\n",
       "      <td>21.604938</td>\n",
       "      <td>1.0</td>\n",
       "      <td>Right Fullback</td>\n",
       "    </tr>\n",
       "  </tbody>\n",
       "</table>\n",
       "</div>"
      ],
      "text/plain": [
       "   skincolor   meanIAT   meanExp        bmi  winningRate              position\n",
       "5      0.125  0.325185  0.538462  21.434609          0.0           Center Back\n",
       "6      0.125  0.325185  0.538462  22.877406          1.0         Left Fullback\n",
       "7      1.000  0.325185  0.538462  20.987654          0.0  Defensive Midfielder\n",
       "8      0.250  0.325185  0.538462  21.477087          0.0            Goalkeeper\n",
       "9      0.000  0.325185  0.538462  21.604938          1.0        Right Fullback"
      ]
     },
     "execution_count": 13,
     "metadata": {},
     "output_type": "execute_result"
    }
   ],
   "source": [
    "# split the data into predictors and response variable\n",
    "X = df[['skincolor','meanIAT', 'meanExp', 'bmi', 'winningRate','position']]\n",
    "X.head()\n"
   ]
  },
  {
   "cell_type": "code",
   "execution_count": 14,
   "metadata": {},
   "outputs": [],
   "source": [
    "# one-hot encoding of categorical vars\n",
    "X = pd.concat([X, pd.get_dummies(X.position)], axis=1)\n",
    "X = X.drop(columns = ['position']).to_numpy()\n",
    "y = df['redPerGame'].values"
   ]
  },
  {
   "cell_type": "code",
   "execution_count": 15,
   "metadata": {},
   "outputs": [
    {
     "data": {
      "text/plain": [
       "(110462, 17)"
      ]
     },
     "execution_count": 15,
     "metadata": {},
     "output_type": "execute_result"
    }
   ],
   "source": [
    "# Should features be normalized and/or centralized?\n",
    "# Yes. We performed centering on the data. \n",
    "\n",
    "data = X - np.mean(X, axis = 0)[None, :]\n",
    "red_cards_frac = y - np.mean(y)\n",
    "data.shape"
   ]
  },
  {
   "cell_type": "code",
   "execution_count": 16,
   "metadata": {},
   "outputs": [
    {
     "data": {
      "text/plain": [
       "(110462,)"
      ]
     },
     "execution_count": 16,
     "metadata": {},
     "output_type": "execute_result"
    }
   ],
   "source": [
    "red_cards_frac.shape"
   ]
  },
  {
   "cell_type": "code",
   "execution_count": null,
   "metadata": {},
   "outputs": [],
   "source": []
  },
  {
   "cell_type": "markdown",
   "metadata": {},
   "source": [
    "## 2.2 Model Creation\n",
    "\n",
    "### Regression forests\n"
   ]
  },
  {
   "cell_type": "markdown",
   "metadata": {
    "id": "tNTpm3mQmvEk"
   },
   "source": [
    "At first we will implement a random forest regression model by reusing our decision forest model from the last exercise with a few modifications."
   ]
  },
  {
   "cell_type": "code",
   "execution_count": 17,
   "metadata": {
    "id": "Ln4PikJpm83A"
   },
   "outputs": [],
   "source": [
    "# base classes\n",
    "class Node:\n",
    "    pass\n",
    "\n",
    "class Tree:\n",
    "    def __init__(self):\n",
    "        self.root = Node()\n",
    "    \n",
    "    def find_leaf(self, x):\n",
    "        node = self.root\n",
    "        while hasattr(node, \"feature\"):\n",
    "            j = node.feature\n",
    "            if x[j] <= node.threshold:\n",
    "                node = node.left\n",
    "            else:\n",
    "                node = node.right\n",
    "        return node\n",
    "    \n",
    "# Regression tree class    \n",
    "class RegressionTree(Tree):\n",
    "    def __init__(self):\n",
    "        super(RegressionTree, self).__init__()\n",
    "        \n",
    "    def train(self, data, labels, n_min=20):\n",
    "        '''\n",
    "        data: the feature matrix for all digits\n",
    "        labels: the corresponding ground-truth responses\n",
    "        n_min: termination criterion (don't split if a node contains fewer instances)\n",
    "        '''\n",
    "        N, D = data.shape\n",
    "        D_try = int(np.sqrt(D)) # how many features to consider for each split decision\n",
    "\n",
    "        # initialize the root node\n",
    "        self.root.data = data\n",
    "        self.root.labels = labels\n",
    "        \n",
    "        stack = [self.root]\n",
    "        while len(stack):\n",
    "            node = stack.pop()\n",
    "            n = node.data.shape[0] # number of instances in present node\n",
    "            if n >= n_min:\n",
    "                # Call 'make_decision_split_node()' with 'D_try' randomly selected \n",
    "                # feature indices. This turns 'node' into a split node\n",
    "                # and returns the two children, which must be placed on the 'stack'.\n",
    "                \n",
    "                # If feature min and max is the same, it has to be excluded\n",
    "                valid_features = np.where(np.min(node.data, axis=0) != np.max(node.data, axis=0))[0]\n",
    "                \n",
    "                if len(valid_features) > 0:\n",
    "                    # 'D_try' randomly selected indices from 'valid_features'\n",
    "                    idx = np.random.permutation(valid_features)[:D_try]\n",
    "                    # Place node's children on the 'stack'\n",
    "                    left, right = make_regression_split_node(node=node, feature_indices=idx)\n",
    "                    stack.extend([left, right])\n",
    "                else:\n",
    "                    #if there are no valid features turn node to leaf\n",
    "                    make_regression_leaf_node(node)\n",
    "            else:\n",
    "                make_regression_leaf_node(node)\n",
    "\n",
    "                \n",
    "    def predict(self, x):\n",
    "        leaf = self.find_leaf(x)\n",
    "        # response is the average response of instaces in leaf\n",
    "        return leaf.response\n",
    "    \n",
    "    \n",
    "\n",
    "def node_sqerr_over_tj(mask, labels):\n",
    "    '''\n",
    "    mask: boolean array, indicating wich instances belong to the node\n",
    "          its dimension is number of instances in parent node x number of tj\n",
    "    labels: labels of parent node\n",
    "    '''\n",
    "    N = np.sum(mask, axis = 0)\n",
    "    C = np.max(labels) + 1\n",
    "    \n",
    "    # Multiply labels by the mask, to keep only labels in node\n",
    "    # others will be 0\n",
    "    labels_mask = labels[:, None] * mask\n",
    "    # Estimate average response\n",
    "    yhat_node = np.sum(labels_mask, axis = 0)/np.sum(mask, axis = 0)\n",
    "    \n",
    "    # Squared error\n",
    "    # multiply my mask to set members of other node to 0\n",
    "    sqerr = np.sum(np.square(labels[:, None] - yhat_node[None, :]) * mask, axis=0)\n",
    "    # return the Squared error\n",
    "    return sqerr\n",
    "    \n",
    "    \n",
    "def make_regression_split_node(node, feature_indices):\n",
    "    '''\n",
    "    node: the node to be split\n",
    "    feature_indices: a numpy array of length 'D_try', containing the feature \n",
    "                     indices to be considered in the present split\n",
    "    '''\n",
    "    n, D = node.data.shape\n",
    "\n",
    "    # find best feature j (among 'feature_indices') and best threshold t for the split\n",
    "    e_min = float(\"inf\")\n",
    "    j_min, t_min = None, None\n",
    "    \n",
    "    for j in feature_indices:\n",
    "        data_unique = np.unique(node.data[:, j])\n",
    "        # Compute candidate thresholds\n",
    "        tj = (data_unique[1:]+data_unique[0:-1])/2\n",
    "        #print(tj)\n",
    "        # First make a mask of instances for all thresholds\n",
    "        mask_tj = node.data[:, None, j] < tj[None, :]\n",
    "        # Compute Gini impurity scores for left and right children\n",
    "        sqerr_l = node_sqerr_over_tj(mask=mask_tj, labels=node.labels)\n",
    "        sqerr_r = node_sqerr_over_tj(mask=np.invert(mask_tj), labels=node.labels)\n",
    "        sqerr_tj = sqerr_l + sqerr_r \n",
    "               \n",
    "        # Find best split for the current feature j\n",
    "        bestt_idx = np.argmin(sqerr_tj)\n",
    "        sqerr = sqerr_tj[bestt_idx]\n",
    "        \n",
    "        # choose the best threshold that\n",
    "        if sqerr < e_min:\n",
    "            e_min = sqerr\n",
    "            j_min = j\n",
    "            t_min = tj[bestt_idx]\n",
    "            # Save mask of best split\n",
    "            mask_min = mask_tj[:, bestt_idx].copy()\n",
    "    \n",
    "    if e_min == float(\"inf\"):\n",
    "        print(feature_indices)\n",
    "        print(e_min)\n",
    "    # create children\n",
    "    left = Node()\n",
    "    right = Node()\n",
    "    \n",
    "    # initialize 'left' and 'right' with the data subsets and labels\n",
    "    # according to the optimal split found above\n",
    "    left.data    = node.data[mask_min, ] # data in left node\n",
    "    left.labels  = node.labels[mask_min].copy() # corresponding labels\n",
    "    right.data   = node.data[np.invert(mask_min), ]\n",
    "    right.labels = node.labels[np.invert(mask_min)].copy()\n",
    "    \n",
    "    # turn the current 'node' into a split node\n",
    "    # (store children and split condition)\n",
    "    node.left = left\n",
    "    node.right = right\n",
    "    node.feature = j_min\n",
    "    node.threshold = t_min\n",
    "    node.data = None\n",
    "\n",
    "    # return the children (to be placed on the stack)\n",
    "    return left, right    \n",
    "\n",
    "def make_regression_leaf_node(node):\n",
    "    '''\n",
    "    node: the node to become a leaf\n",
    "    '''\n",
    "    # compute and store leaf response\n",
    "    #node.N = len(node.data)\n",
    "    node.response = np.mean(node.labels)\n",
    "    \n",
    "regTree = RegressionTree()\n",
    "regTree.train(data=data[0:1000,0:25], labels=red_cards_frac[0:1000],  n_min=2)\n",
    "#regTree.train(data=data, labels=red_cards_frac,  n_min=20)\n",
    "#regTree.predict(x=data[165,:])\n"
   ]
  },
  {
   "cell_type": "code",
   "execution_count": 15,
   "metadata": {
    "id": "4K8QF7GinB7g"
   },
   "outputs": [
    {
     "name": "stdout",
     "output_type": "stream",
     "text": [
      "-0.008209157374052508\n"
     ]
    },
    {
     "data": {
      "text/plain": [
       "-0.008209157374052508"
      ]
     },
     "execution_count": 15,
     "metadata": {},
     "output_type": "execute_result"
    }
   ],
   "source": [
    "class RegressionForest():\n",
    "    def __init__(self, n_trees):\n",
    "        # create ensemble\n",
    "        self.trees = [RegressionTree() for i in range(n_trees)]\n",
    "    \n",
    "    def train(self, data, labels, n_min=0):\n",
    "        for tree in self.trees:\n",
    "            # train each tree, using a bootstrap sample of the data\n",
    "            N = len(data)\n",
    "            idx = np.random.choice(N, size=N, replace=True)\n",
    "            data_p   = data[idx, :]\n",
    "            labels_p = labels[idx]\n",
    "            tree.train(data=data_p, labels=labels_p, n_min=n_min)\n",
    "\n",
    "    def predict(self, x):\n",
    "        # compute the ensemble prediction\n",
    "        return(np.mean([tree.predict(x) for tree in self.trees]))\n",
    "    \n",
    "regForest = RegressionForest(n_trees=10)\n",
    "regForest.train(data=data[0:1000,0:25], labels=red_cards_frac[0:1000],  n_min=0)\n",
    "#regForest.train(data=data[:,0:25], labels=red_cards_frac,  n_min=0)\n",
    "#regForest.train(data=data, labels=red_cards_frac,  n_min=20)\n",
    "print(red_cards_frac[165])\n",
    "regForest.predict(x=data[165,:])\n",
    "\n"
   ]
  },
  {
   "cell_type": "code",
   "execution_count": 18,
   "metadata": {
    "id": "DsgSZE0MoTDc"
   },
   "outputs": [],
   "source": [
    "from sklearn.model_selection import KFold\n",
    "\n",
    "#data = data[0:1000,0:25]\n",
    "#red_cards_frac = red_cards_frac[0:1000]\n",
    "\n",
    "def crossVal_RegressionForest(n_splits, n_trees, n_min, data, y):\n",
    "    kf = KFold(n_splits=n_splits)\n",
    "    regForest_sqerr = []\n",
    "\n",
    "    for train, test in kf.split(data):\n",
    "        X_train_kf = data[train,]\n",
    "        X_test_kf  = data[test,]\n",
    "        y_train_kf = y[train,]\n",
    "        y_test_kf  = y[test,]\n",
    "        #print(\"%s %s\" % (train, test))\n",
    "        regForest = RegressionForest(n_trees=n_trees)\n",
    "        regForest.train(data=X_train_kf, labels=y_train_kf,  n_min=n_min)\n",
    "        regForest_pred = [regForest.predict(x=X_test_kf[i,:]) for i in range(len(X_test_kf))]\n",
    "        regForest_sqerr.append(np.mean(np.square(y_test_kf - regForest_pred)))    \n",
    "    return(np.array(regForest_sqerr))\n",
    "\n",
    "\n",
    "ßregForest_sqerr = crossVal_RegressionForest(n_splits=10, n_trees=20, n_min=100, data=data, y=red_cards_frac)\n",
    "#filename = \"regForest_sqerr_CV.pkl\"\n",
    "#pickle.dump(regForest_sqerr, open(filename, 'wb'))\n",
    "\n"
   ]
  },
  {
   "cell_type": "code",
   "execution_count": 23,
   "metadata": {},
   "outputs": [
    {
     "name": "stdout",
     "output_type": "stream",
     "text": [
      "The squared test error of the regression trees after 10fold cross validation is:\n",
      "Test error: 0.0052 (+/- 0.0011)\n"
     ]
    }
   ],
   "source": [
    "regForest_sqerr = pickle.load(open(\"regForest_sqerr_CV.pkl\",'rb'))\n",
    "\n",
    "print('The squared test error of the regression trees after 10fold cross validation is:')\n",
    "print('Test error: %0.4f (+/- %0.4f)' % (regForest_sqerr.mean(), regForest_sqerr.std() * 2))"
   ]
  },
  {
   "cell_type": "markdown",
   "metadata": {
    "id": "AZ3D0KoDoh_6"
   },
   "source": [
    "## Linear regression"
   ]
  },
  {
   "cell_type": "code",
   "execution_count": 24,
   "metadata": {},
   "outputs": [
    {
     "data": {
      "text/plain": [
       "array([ 0.00502127, -0.00356833,  0.00463967, -0.00216702, -0.00405181])"
      ]
     },
     "execution_count": 24,
     "metadata": {},
     "output_type": "execute_result"
    }
   ],
   "source": [
    "#np.linalg.lstsq(a, b, rcond='warn')[source]\n",
    "\n",
    "class LinearRegression():    \n",
    "    def train(self, data, labels):\n",
    "        self.beta, _, _, _ = np.linalg.lstsq(data, labels, rcond=None)\n",
    "\n",
    "    def predict(self, x):\n",
    "        return(np.dot(x, self.beta.T))\n",
    "        #return(np.sum(x * self.beta))\n",
    "    \n",
    "    \n",
    "    \n",
    "linearReg = LinearRegression()\n",
    "linearReg.train(data, red_cards_frac)\n",
    "linearReg.predict(data[0:5,:])"
   ]
  },
  {
   "cell_type": "code",
   "execution_count": 25,
   "metadata": {},
   "outputs": [],
   "source": [
    "#data = data[:,0:25]\n",
    "\n",
    "def crossVal_LinearRegression(n_splits, data, y):\n",
    "    kf = KFold(n_splits=n_splits)\n",
    "    linearReg_sqerr = []\n",
    "\n",
    "    for train, test in kf.split(data):\n",
    "        X_train_kf = data[train,]\n",
    "        X_test_kf  = data[test,]\n",
    "        y_train_kf = y[train,]\n",
    "        y_test_kf  = y[test,]\n",
    "        #print(\"%s %s\" % (train, test))\n",
    "        linearReg = LinearRegression()\n",
    "        linearReg.train(X_train_kf, y_train_kf)\n",
    "        linearReg_pred = linearReg.predict(X_test_kf)\n",
    "        linearReg_sqerr.append(np.mean(np.square(y_test_kf - linearReg_pred)))\n",
    "    \n",
    "    return(np.array(linearReg_sqerr))\n",
    "\n",
    "\n",
    "#linearReg_sqerr = crossVal_LinearRegression(n_splits=10, data=data, y=red_cards_frac)\n",
    "#filename = \"regLinear_sqerr_CV.pkl\"\n",
    "#pickle.dump(linearReg_sqerr, open(filename, 'wb'))\n"
   ]
  },
  {
   "cell_type": "code",
   "execution_count": 26,
   "metadata": {},
   "outputs": [
    {
     "name": "stdout",
     "output_type": "stream",
     "text": [
      "The squared test error of the linear regression after 10fold cross validation is:\n",
      "Test error: 0.0051 (+/- 0.0011)\n"
     ]
    }
   ],
   "source": [
    "linearReg_sqerr = pickle.load(open(\"regLinear_sqerr_CV.pkl\",'rb'))\n",
    "\n",
    "print('The squared test error of the linear regression after 10fold cross validation is:')\n",
    "print('Test error: %0.4f (+/- %0.4f)' % (linearReg_sqerr.mean(), linearReg_sqerr.std() * 2))"
   ]
  },
  {
   "cell_type": "code",
   "execution_count": null,
   "metadata": {
    "id": "wmqTU8JEmz8p"
   },
   "outputs": [],
   "source": []
  },
  {
   "cell_type": "markdown",
   "metadata": {
    "id": "Oe18otNTgXAq"
   },
   "source": [
    "## 2.3 Answering the Research Question"
   ]
  },
  {
   "cell_type": "markdown",
   "metadata": {},
   "source": [
    "### Permutation study with Linear regression model"
   ]
  },
  {
   "cell_type": "code",
   "execution_count": 34,
   "metadata": {
    "id": "WymFdttfgyKd"
   },
   "outputs": [],
   "source": [
    "#print(data[0,0:5])\n",
    "#np.random.permutation(data[0,0:5])\n",
    "\n",
    "def permutationLR_skincolor(n_permutations, n_splits, data, y):\n",
    "    data_per = data.copy()\n",
    "    sqerr = []\n",
    "    for p in range(n_permutations):\n",
    "        data_per[:,0] = np.random.permutation(data[:,0])\n",
    "        sqerr.append(crossVal_LinearRegression(n_splits=n_splits, data=data_per, y=y).mean())\n",
    "    \n",
    "    return(np.array(sqerr))\n",
    "\n",
    "sqLR_PT = permutationLR_skincolor(n_permutations=19, n_splits=10, data=data, y=red_cards_frac)\n",
    "\n",
    "filename = \"regLinear_sqerr_PT.pkl\"\n",
    "pickle.dump(sqLR_PT, open(filename, 'wb'))\n",
    "\n",
    "#linearReg_sqerr.mean() - permutationLR_skincolor(n_permutations=19, n_splits=10, data=data, y=red_cards_frac)"
   ]
  },
  {
   "cell_type": "code",
   "execution_count": 35,
   "metadata": {},
   "outputs": [
    {
     "data": {
      "text/plain": [
       "array([-0.01013252, -0.01007037, -0.00952573, -0.01063545, -0.00982821,\n",
       "       -0.0100167 , -0.01015196, -0.01025618, -0.00981732, -0.0108182 ,\n",
       "       -0.01002757, -0.00998884, -0.00988621, -0.01022883, -0.00997411,\n",
       "       -0.01057687, -0.00983478, -0.00974217, -0.0100604 ])"
      ]
     },
     "execution_count": 35,
     "metadata": {},
     "output_type": "execute_result"
    }
   ],
   "source": [
    "sqLR_PT = pickle.load(open(\"regLinear_sqerr_PT.pkl\",'rb'))\n",
    "\n",
    "# Compared the original prediction with the permutated prediction\n",
    "linearReg_sqerr.mean() - sqLR_PT\n"
   ]
  },
  {
   "cell_type": "code",
   "execution_count": null,
   "metadata": {},
   "outputs": [],
   "source": [
    "# We can observe from the result above that \n",
    "# all the error obtained in the permutation studies have higher\n",
    "# mean error rate than the original prediction, which \n",
    "# indicates that there is a skin color bias in red card decisions \n",
    "# with a p-value of p = 1/20 = 0.05."
   ]
  },
  {
   "cell_type": "markdown",
   "metadata": {},
   "source": [
    "### Permutation study with Regression Forest model"
   ]
  },
  {
   "cell_type": "code",
   "execution_count": 27,
   "metadata": {
    "id": "3HB9viJok47C"
   },
   "outputs": [],
   "source": [
    "#print(data[0,0:5])\n",
    "#np.random.permutation(data[0,0:5])\n",
    "\n",
    "def permutationRF_skincolor(n_permutations, n_splits, data, y):\n",
    "    data_per = data.copy()\n",
    "    sqerr = []\n",
    "    for p in range(n_permutations):\n",
    "        data_per[:,0] = np.random.permutation(data[:,0])\n",
    "        sqerr.append(crossVal_RegressionForest(n_splits=10, n_trees=20, n_min=100, data=data, y=y).mean())\n",
    "    \n",
    "    return(np.array(sqerr))\n",
    "\n",
    "#sqRF_PT = permutationRF_skincolor(n_permutations=19, n_splits=10, data=data, y=red_cards_frac)\n",
    "#filename = \"regForest_sqerr_PT.pkl\"\n",
    "#pickle.dump(sqRF_PT, open(filename, 'wb'))\n",
    "\n",
    "#regForest_sqerr.mean() - permutationRF_skincolor(n_permutations=19, n_splits=10, data=data, y=red_cards_frac)\n"
   ]
  },
  {
   "cell_type": "code",
   "execution_count": 28,
   "metadata": {
    "id": "ZRKRplmbnJys"
   },
   "outputs": [
    {
     "data": {
      "text/plain": [
       "array([ 3.35925607e-06,  6.90559170e-06,  2.28863121e-06,  4.97973556e-06,\n",
       "        7.59696700e-06, -9.71007931e-07,  5.55382046e-06,  5.63348454e-06,\n",
       "        7.75422060e-07,  4.82128769e-06,  1.53809572e-06,  4.61566626e-06,\n",
       "        5.27233021e-06, -2.69285351e-06,  4.20177620e-06,  5.78407956e-06,\n",
       "       -2.59548012e-06,  9.02353073e-06,  8.10400460e-06])"
      ]
     },
     "execution_count": 28,
     "metadata": {},
     "output_type": "execute_result"
    }
   ],
   "source": [
    "sqRF_PT = pickle.load(open(\"regForest_sqerr_PT.pkl\",'rb'))\n",
    "\n",
    "# Compared the original prediction with the permutated prediction\n",
    "regForest_sqerr.mean() - sqRF_PT\n"
   ]
  },
  {
   "cell_type": "code",
   "execution_count": null,
   "metadata": {},
   "outputs": [],
   "source": []
  },
  {
   "cell_type": "markdown",
   "metadata": {},
   "source": [
    "## 2.4 How to lie with statistics"
   ]
  },
  {
   "cell_type": "code",
   "execution_count": 161,
   "metadata": {},
   "outputs": [
    {
     "data": {
      "text/plain": [
       "(110462, 12)"
      ]
     },
     "execution_count": 161,
     "metadata": {},
     "output_type": "execute_result"
    }
   ],
   "source": [
    "# We re-preprocess the covariate 'position' in our dataset.\n",
    "# For example, here we use a new, but equally plausible cleaned \n",
    "# dataset by excluding several positions.\n",
    "# And rerun the model and the permutation test.\n",
    "data_lie = data[:,0:12]\n",
    "red_cards_frac_lie = red_cards_frac\n",
    "data_lie.shape"
   ]
  },
  {
   "cell_type": "code",
   "execution_count": 158,
   "metadata": {
    "scrolled": true
   },
   "outputs": [
    {
     "name": "stdout",
     "output_type": "stream",
     "text": [
      "The squared test error of the linear regression after 10fold cross validation is:\n",
      "Test error: 0.00507196 (+/- 0.00108319)\n"
     ]
    }
   ],
   "source": [
    "# First we re-run the CV with linear regression model\n",
    "\n",
    "linearReg_sqerr_lie = crossVal_LinearRegression(n_splits=10, data=data_lie, y=red_cards_frac_lie)\n",
    "\n",
    "print('The squared test error of the linear regression after 10fold cross validation is:')\n",
    "print('Test error: %0.8f (+/- %0.8f)' % (linearReg_sqerr_lie.mean(), linearReg_sqerr_lie.std() * 2))\n"
   ]
  },
  {
   "cell_type": "code",
   "execution_count": 159,
   "metadata": {},
   "outputs": [
    {
     "data": {
      "text/plain": [
       "array([0.00507205, 0.00507222, 0.00507202, 0.00507221, 0.00507217,\n",
       "       0.00507219, 0.00507222, 0.00507216, 0.00507185, 0.00507217,\n",
       "       0.0050718 , 0.00507223, 0.00507211, 0.00507218, 0.00507222,\n",
       "       0.00507218, 0.00507223, 0.00507216, 0.00507239])"
      ]
     },
     "execution_count": 159,
     "metadata": {},
     "output_type": "execute_result"
    }
   ],
   "source": [
    "# Then we re-run the permutation test with linear regression model\n",
    "sqLR_PT_lie = permutationLR_skincolor(n_permutations=19, n_splits=10, data=data_lie, y=red_cards_frac_lie)\n",
    "sqLR_PT_lie"
   ]
  },
  {
   "cell_type": "code",
   "execution_count": 160,
   "metadata": {
    "scrolled": false
   },
   "outputs": [
    {
     "data": {
      "text/plain": [
       "array([-9.72730139e-08, -2.68674466e-07, -6.56443452e-08, -2.55833351e-07,\n",
       "       -2.16248313e-07, -2.30814547e-07, -2.66748468e-07, -2.07675057e-07,\n",
       "        1.04299162e-07, -2.09525478e-07,  1.59694460e-07, -2.71167498e-07,\n",
       "       -1.54846042e-07, -2.28616035e-07, -2.63327293e-07, -2.21968126e-07,\n",
       "       -2.74670989e-07, -2.09098416e-07, -4.29633952e-07])"
      ]
     },
     "execution_count": 160,
     "metadata": {},
     "output_type": "execute_result"
    }
   ],
   "source": [
    "# Compared the original prediction with the permutated prediction\n",
    "# We can observe that after removing some of the positions in the data, \n",
    "# this time not all permutated datasets exhibit higher test errors than \n",
    "# the original unscattered dataset. \n",
    "# Therefore, we cannot conclude the skin color bias with this different preprocessed dataset.\n",
    "\n",
    "linearReg_sqerr_lie.mean() - sqLR_PT_lie"
   ]
  },
  {
   "cell_type": "code",
   "execution_count": null,
   "metadata": {},
   "outputs": [],
   "source": []
  },
  {
   "cell_type": "markdown",
   "metadata": {
    "scrolled": true
   },
   "source": [
    "## 2.4 How to lie with statistics ( other solution )"
   ]
  },
  {
   "cell_type": "code",
   "execution_count": 148,
   "metadata": {},
   "outputs": [
    {
     "data": {
      "text/html": [
       "<div>\n",
       "<style scoped>\n",
       "    .dataframe tbody tr th:only-of-type {\n",
       "        vertical-align: middle;\n",
       "    }\n",
       "\n",
       "    .dataframe tbody tr th {\n",
       "        vertical-align: top;\n",
       "    }\n",
       "\n",
       "    .dataframe thead th {\n",
       "        text-align: right;\n",
       "    }\n",
       "</style>\n",
       "<table border=\"1\" class=\"dataframe\">\n",
       "  <thead>\n",
       "    <tr style=\"text-align: right;\">\n",
       "      <th></th>\n",
       "      <th>skintone</th>\n",
       "      <th>playerShort</th>\n",
       "      <th>position</th>\n",
       "      <th>refNum</th>\n",
       "      <th>meanIAT</th>\n",
       "      <th>meanExp</th>\n",
       "      <th>bmi</th>\n",
       "      <th>redPerGame</th>\n",
       "      <th>winningRate</th>\n",
       "    </tr>\n",
       "  </thead>\n",
       "  <tbody>\n",
       "    <tr>\n",
       "      <th>5</th>\n",
       "      <td>0.125</td>\n",
       "      <td>aaron-hughes</td>\n",
       "      <td>Center Back</td>\n",
       "      <td>4</td>\n",
       "      <td>0.325185</td>\n",
       "      <td>0.538462</td>\n",
       "      <td>21.434609</td>\n",
       "      <td>0.0</td>\n",
       "      <td>0.0</td>\n",
       "    </tr>\n",
       "    <tr>\n",
       "      <th>6</th>\n",
       "      <td>0.125</td>\n",
       "      <td>aleksandar-kolarov</td>\n",
       "      <td>Left Fullback</td>\n",
       "      <td>4</td>\n",
       "      <td>0.325185</td>\n",
       "      <td>0.538462</td>\n",
       "      <td>22.877406</td>\n",
       "      <td>0.0</td>\n",
       "      <td>1.0</td>\n",
       "    </tr>\n",
       "    <tr>\n",
       "      <th>7</th>\n",
       "      <td>1.000</td>\n",
       "      <td>alexander-tettey</td>\n",
       "      <td>Defensive Midfielder</td>\n",
       "      <td>4</td>\n",
       "      <td>0.325185</td>\n",
       "      <td>0.538462</td>\n",
       "      <td>20.987654</td>\n",
       "      <td>0.0</td>\n",
       "      <td>0.0</td>\n",
       "    </tr>\n",
       "    <tr>\n",
       "      <th>8</th>\n",
       "      <td>0.250</td>\n",
       "      <td>anders-lindegaard</td>\n",
       "      <td>Goalkeeper</td>\n",
       "      <td>4</td>\n",
       "      <td>0.325185</td>\n",
       "      <td>0.538462</td>\n",
       "      <td>21.477087</td>\n",
       "      <td>0.0</td>\n",
       "      <td>0.0</td>\n",
       "    </tr>\n",
       "    <tr>\n",
       "      <th>9</th>\n",
       "      <td>0.000</td>\n",
       "      <td>andreas-beck</td>\n",
       "      <td>Right Fullback</td>\n",
       "      <td>4</td>\n",
       "      <td>0.325185</td>\n",
       "      <td>0.538462</td>\n",
       "      <td>21.604938</td>\n",
       "      <td>0.0</td>\n",
       "      <td>1.0</td>\n",
       "    </tr>\n",
       "  </tbody>\n",
       "</table>\n",
       "</div>"
      ],
      "text/plain": [
       "   skintone         playerShort              position  refNum   meanIAT  \\\n",
       "5     0.125        aaron-hughes           Center Back       4  0.325185   \n",
       "6     0.125  aleksandar-kolarov         Left Fullback       4  0.325185   \n",
       "7     1.000    alexander-tettey  Defensive Midfielder       4  0.325185   \n",
       "8     0.250   anders-lindegaard            Goalkeeper       4  0.325185   \n",
       "9     0.000        andreas-beck        Right Fullback       4  0.325185   \n",
       "\n",
       "    meanExp        bmi  redPerGame  winningRate  \n",
       "5  0.538462  21.434609         0.0          0.0  \n",
       "6  0.538462  22.877406         0.0          1.0  \n",
       "7  0.538462  20.987654         0.0          0.0  \n",
       "8  0.538462  21.477087         0.0          0.0  \n",
       "9  0.538462  21.604938         0.0          1.0  "
      ]
     },
     "execution_count": 148,
     "metadata": {},
     "output_type": "execute_result"
    }
   ],
   "source": [
    "# filter the data frame \n",
    "# calculate bmi\n",
    "# calculate yellow and red cards per game and separately for victories and ties + defeats \n",
    "# take the mean of the two raters \n",
    "# remove the columns player, club, age, photoID, Alpha_3, nIAT, seIAT, nExp, seExp\n",
    "# Import original data\n",
    "df = pd.read_csv('data/CrowdstormingDataJuly1st.csv')\n",
    "\n",
    "\n",
    "df['bmi'] = df['weight']/((df['height']/100)**2)\n",
    "df['redPerGame'] = (df['yellowReds'] + df['redCards'])/df['games']\n",
    "df['winningRate'] = (df['victories']/df['games'])\n",
    "#df['losingRate'] = (df['ties'] + df['defeats'])/df['games']\n",
    "#df['skincolor'] = (df['rater1'] + df['rater2'])/2\n",
    "df.insert(loc=0, column='skintone', value=(df['rater1']+df['rater2'])/2)\n",
    "df = df.drop(columns=['player','club','leagueCountry','birthday','height','weight','games','victories','ties','defeats', 'goals', 'yellowCards', 'yellowReds', 'redCards', 'photoID', 'rater1', 'rater2','refCountry', 'Alpha_3', 'nIAT', 'seIAT', 'nExp', 'seExp'])\n",
    "\n",
    "# remove rows with missing values\n",
    "df = df.dropna(axis=0)\n",
    "\n",
    "# remove referees that have less or equal to 10 appearances\n",
    "referees = df['refNum'].value_counts()\n",
    "good_referees = referees[referees >= 10].index.to_numpy()\n",
    "df = df.loc[df['refNum'].isin(good_referees)]\n",
    "\n",
    "# inspect the filtered dataframe\n",
    "df.head()"
   ]
  },
  {
   "cell_type": "code",
   "execution_count": 151,
   "metadata": {
    "scrolled": true
   },
   "outputs": [
    {
     "data": {
      "text/plain": [
       "(110462, 17)"
      ]
     },
     "execution_count": 151,
     "metadata": {},
     "output_type": "execute_result"
    }
   ],
   "source": [
    "# split the data into predictors and response variable\n",
    "df_fil = col_to_onehot(df, 'position')\n",
    "\n",
    "# Remove non longer used features\n",
    "#df_fil = df_fil.drop(['yellowReds', 'redCards', 'birthday', 'rater1', 'rater2'],axis = 1)\n",
    "#df_fil\n",
    "\n",
    "\n",
    "#red_cards = df_fil['allreds'].values\n",
    "#data = df_fil.drop(['allreds'],axis = 1).values\n",
    "\n",
    "red_cards_frac = (df_fil['redPerGame']).values\n",
    "data = df_fil.drop(['redPerGame', 'refNum', 'playerShort'],axis = 1).values\n",
    "\n",
    "#data = (data - np.min(data, axis = 0))/np.max(data, axis = 0)\n",
    "data = data - np.mean(data, axis = 0)[None, :]\n",
    "red_cards_frac = red_cards_frac - np.mean(red_cards_frac)\n",
    "data.shape\n"
   ]
  },
  {
   "cell_type": "markdown",
   "metadata": {},
   "source": []
  },
  {
   "cell_type": "code",
   "execution_count": 152,
   "metadata": {
    "scrolled": true
   },
   "outputs": [
    {
     "data": {
      "text/plain": [
       "array([-3.36768036e-07, -2.45166605e-08, -2.14562263e-07, -1.60399593e-07,\n",
       "       -3.25754918e-07, -2.42182250e-07, -2.84315240e-07, -2.77963651e-07,\n",
       "       -2.94460698e-07, -2.12486841e-07, -1.97019917e-07, -2.75422977e-07,\n",
       "       -2.82708669e-07, -2.28413226e-07, -2.52279742e-07, -2.46720212e-07,\n",
       "       -8.31350852e-08, -3.19418121e-07, -2.63563303e-07])"
      ]
     },
     "execution_count": 152,
     "metadata": {},
     "output_type": "execute_result"
    }
   ],
   "source": [
    "linearReg_sqerr_lie = crossVal_LinearRegression(n_splits=10, data=data, y=red_cards_frac)\n",
    "linearReg_sqerr_lie.mean() - permutation_skincolor(n_permutations=19, n_splits=10, \n",
    "                                                   data=data, y=red_cards_frac)"
   ]
  },
  {
   "cell_type": "code",
   "execution_count": 260,
   "metadata": {},
   "outputs": [
    {
     "data": {
      "text/plain": [
       "(23659, 4)"
      ]
     },
     "execution_count": 260,
     "metadata": {},
     "output_type": "execute_result"
    }
   ],
   "source": [
    "df = pd.read_csv('data/CrowdstormingDataJuly1st.csv')\n",
    "\n",
    "\n",
    "df['bmi'] = df['weight']/((df['height']/100)**2)\n",
    "df['redPerGame'] = (df['yellowReds'] + df['redCards'])/df['games']\n",
    "df['winningRate'] = (df['victories']/df['games'])\n",
    "#df['losingRate'] = (df['ties'] + df['defeats'])/df['games']\n",
    "#df['skincolor'] = (df['rater1'] + df['rater2'])/2\n",
    "df.insert(loc=0, column='skintone', value=(df['rater1']+df['rater2'])/2)\n",
    "df = df.drop(columns=['player','club','leagueCountry','birthday','height','weight','games','victories','ties','defeats', 'yellowCards', 'yellowReds', 'redCards', 'photoID', 'rater1', 'rater2','refCountry', 'Alpha_3', 'nIAT', 'seIAT', 'nExp', 'seExp'])\n",
    "\n",
    "# remove rows with missing values\n",
    "df = df.dropna(axis=0)\n",
    "\n",
    "# remove referees that have less or equal to 10 appearances\n",
    "referees = df['refNum'].value_counts()\n",
    "good_referees = referees[referees >= 10].index.to_numpy()\n",
    "df = df.loc[df['refNum'].isin(good_referees)]\n",
    "\n",
    "\n",
    "# split the data into predictors and response variable\n",
    "#df_fil = col_to_onehot(df, 'position')\n",
    "#df_fil = col_to_onehot(df_fil, 'playerShort')\n",
    "df_fil = df\n",
    "#df_fil = col_to_onehot(df_fil, 'refNum')\n",
    "\n",
    "# Remove non longer used features\n",
    "#df_fil = df_fil.drop(['yellowReds', 'redCards', 'birthday', 'rater1', 'rater2'],axis = 1)\n",
    "#print(df_fil)\n",
    "\n",
    "\n",
    "#red_cards = df_fil['allreds'].values\n",
    "#data = df_fil.drop(['allreds'],axis = 1).values\n",
    "\n",
    "#df_fil = df_fil[df_fil['bmi'] >= 25.5]\n",
    "df_fil = df_fil[df_fil['goals'] > 0]\n",
    "\n",
    "\n",
    "\n",
    "red_cards_frac_lie = (df_fil['redPerGame']).values\n",
    "data_lie = df_fil.drop(['refNum', \n",
    "                        #'skintone',\n",
    "                        #\"bmi\",\n",
    "                        'position',\n",
    "                        'meanIAT', \n",
    "                        'meanExp',\n",
    "                        'playerShort',\n",
    "                       'redPerGame',],axis = 1).values\n",
    "\n",
    "#data = (data - np.min(data, axis = 0))/np.max(data, axis = 0)\n",
    "data_lie = data_lie - np.mean(data_lie, axis = 0)[None, :]\n",
    "red_cards_frac_lie = red_cards_frac_lie - np.mean(red_cards_frac_lie)\n",
    "data_lie.shape\n",
    "\n"
   ]
  },
  {
   "cell_type": "code",
   "execution_count": 261,
   "metadata": {},
   "outputs": [
    {
     "data": {
      "text/plain": [
       "array([-4.52804725e-07, -4.84823235e-07, -4.47617963e-07, -3.84049446e-07,\n",
       "       -4.87740082e-07, -5.01143763e-07, -3.68492098e-07, -5.26417849e-07,\n",
       "       -4.42314541e-07, -4.32992624e-07, -5.73170030e-07, -1.20965980e-07,\n",
       "       -4.10098470e-07, -4.49495334e-07, -3.70664350e-07, -7.81388552e-07,\n",
       "       -4.26896763e-07, -4.17210196e-07, -3.00707356e-07])"
      ]
     },
     "execution_count": 261,
     "metadata": {},
     "output_type": "execute_result"
    }
   ],
   "source": [
    "linearReg_sqerr_lie = crossVal_LinearRegression(n_splits=10, data=data_lie, y=red_cards_frac_lie)\n",
    "linearReg_sqerr_lie.mean() - permutation_skincolor(n_permutations=19, n_splits=10, \n",
    "                                                   data=data_lie, y=red_cards_frac_lie)"
   ]
  },
  {
   "cell_type": "code",
   "execution_count": 168,
   "metadata": {
    "scrolled": false
   },
   "outputs": [
    {
     "data": {
      "text/html": [
       "<div>\n",
       "<style scoped>\n",
       "    .dataframe tbody tr th:only-of-type {\n",
       "        vertical-align: middle;\n",
       "    }\n",
       "\n",
       "    .dataframe tbody tr th {\n",
       "        vertical-align: top;\n",
       "    }\n",
       "\n",
       "    .dataframe thead th {\n",
       "        text-align: right;\n",
       "    }\n",
       "</style>\n",
       "<table border=\"1\" class=\"dataframe\">\n",
       "  <thead>\n",
       "    <tr style=\"text-align: right;\">\n",
       "      <th></th>\n",
       "      <th>skintone</th>\n",
       "      <th>playerShort</th>\n",
       "      <th>position</th>\n",
       "      <th>refNum</th>\n",
       "      <th>meanIAT</th>\n",
       "      <th>meanExp</th>\n",
       "      <th>bmi</th>\n",
       "      <th>redPerGame</th>\n",
       "      <th>winningRate</th>\n",
       "    </tr>\n",
       "  </thead>\n",
       "  <tbody>\n",
       "    <tr>\n",
       "      <th>5</th>\n",
       "      <td>0.125</td>\n",
       "      <td>aaron-hughes</td>\n",
       "      <td>Center Back</td>\n",
       "      <td>4</td>\n",
       "      <td>0.325185</td>\n",
       "      <td>0.538462</td>\n",
       "      <td>21.434609</td>\n",
       "      <td>0.0</td>\n",
       "      <td>0.0</td>\n",
       "    </tr>\n",
       "    <tr>\n",
       "      <th>6</th>\n",
       "      <td>0.125</td>\n",
       "      <td>aleksandar-kolarov</td>\n",
       "      <td>Left Fullback</td>\n",
       "      <td>4</td>\n",
       "      <td>0.325185</td>\n",
       "      <td>0.538462</td>\n",
       "      <td>22.877406</td>\n",
       "      <td>0.0</td>\n",
       "      <td>1.0</td>\n",
       "    </tr>\n",
       "    <tr>\n",
       "      <th>7</th>\n",
       "      <td>1.000</td>\n",
       "      <td>alexander-tettey</td>\n",
       "      <td>Defensive Midfielder</td>\n",
       "      <td>4</td>\n",
       "      <td>0.325185</td>\n",
       "      <td>0.538462</td>\n",
       "      <td>20.987654</td>\n",
       "      <td>0.0</td>\n",
       "      <td>0.0</td>\n",
       "    </tr>\n",
       "    <tr>\n",
       "      <th>8</th>\n",
       "      <td>0.250</td>\n",
       "      <td>anders-lindegaard</td>\n",
       "      <td>Goalkeeper</td>\n",
       "      <td>4</td>\n",
       "      <td>0.325185</td>\n",
       "      <td>0.538462</td>\n",
       "      <td>21.477087</td>\n",
       "      <td>0.0</td>\n",
       "      <td>0.0</td>\n",
       "    </tr>\n",
       "    <tr>\n",
       "      <th>9</th>\n",
       "      <td>0.000</td>\n",
       "      <td>andreas-beck</td>\n",
       "      <td>Right Fullback</td>\n",
       "      <td>4</td>\n",
       "      <td>0.325185</td>\n",
       "      <td>0.538462</td>\n",
       "      <td>21.604938</td>\n",
       "      <td>0.0</td>\n",
       "      <td>1.0</td>\n",
       "    </tr>\n",
       "    <tr>\n",
       "      <th>...</th>\n",
       "      <td>...</td>\n",
       "      <td>...</td>\n",
       "      <td>...</td>\n",
       "      <td>...</td>\n",
       "      <td>...</td>\n",
       "      <td>...</td>\n",
       "      <td>...</td>\n",
       "      <td>...</td>\n",
       "      <td>...</td>\n",
       "    </tr>\n",
       "    <tr>\n",
       "      <th>146022</th>\n",
       "      <td>0.500</td>\n",
       "      <td>tom-huddlestone</td>\n",
       "      <td>Defensive Midfielder</td>\n",
       "      <td>3147</td>\n",
       "      <td>0.376127</td>\n",
       "      <td>0.498350</td>\n",
       "      <td>22.634676</td>\n",
       "      <td>0.0</td>\n",
       "      <td>0.0</td>\n",
       "    </tr>\n",
       "    <tr>\n",
       "      <th>146023</th>\n",
       "      <td>0.000</td>\n",
       "      <td>tomas-rosicky</td>\n",
       "      <td>Attacking Midfielder</td>\n",
       "      <td>3147</td>\n",
       "      <td>0.376127</td>\n",
       "      <td>0.498350</td>\n",
       "      <td>21.146320</td>\n",
       "      <td>0.0</td>\n",
       "      <td>1.0</td>\n",
       "    </tr>\n",
       "    <tr>\n",
       "      <th>146024</th>\n",
       "      <td>0.375</td>\n",
       "      <td>winston-reid</td>\n",
       "      <td>Center Back</td>\n",
       "      <td>3147</td>\n",
       "      <td>0.376127</td>\n",
       "      <td>0.498350</td>\n",
       "      <td>24.099723</td>\n",
       "      <td>0.0</td>\n",
       "      <td>0.0</td>\n",
       "    </tr>\n",
       "    <tr>\n",
       "      <th>146025</th>\n",
       "      <td>0.250</td>\n",
       "      <td>xherdan-shaqiri</td>\n",
       "      <td>Left Midfielder</td>\n",
       "      <td>3147</td>\n",
       "      <td>0.376127</td>\n",
       "      <td>0.498350</td>\n",
       "      <td>25.209201</td>\n",
       "      <td>0.0</td>\n",
       "      <td>1.0</td>\n",
       "    </tr>\n",
       "    <tr>\n",
       "      <th>146027</th>\n",
       "      <td>0.125</td>\n",
       "      <td>zdenk-pospch</td>\n",
       "      <td>Right Fullback</td>\n",
       "      <td>3147</td>\n",
       "      <td>0.376127</td>\n",
       "      <td>0.498350</td>\n",
       "      <td>23.781213</td>\n",
       "      <td>0.0</td>\n",
       "      <td>0.0</td>\n",
       "    </tr>\n",
       "  </tbody>\n",
       "</table>\n",
       "<p>110462 rows × 9 columns</p>\n",
       "</div>"
      ],
      "text/plain": [
       "        skintone         playerShort              position  refNum   meanIAT  \\\n",
       "5          0.125        aaron-hughes           Center Back       4  0.325185   \n",
       "6          0.125  aleksandar-kolarov         Left Fullback       4  0.325185   \n",
       "7          1.000    alexander-tettey  Defensive Midfielder       4  0.325185   \n",
       "8          0.250   anders-lindegaard            Goalkeeper       4  0.325185   \n",
       "9          0.000        andreas-beck        Right Fullback       4  0.325185   \n",
       "...          ...                 ...                   ...     ...       ...   \n",
       "146022     0.500     tom-huddlestone  Defensive Midfielder    3147  0.376127   \n",
       "146023     0.000       tomas-rosicky  Attacking Midfielder    3147  0.376127   \n",
       "146024     0.375        winston-reid           Center Back    3147  0.376127   \n",
       "146025     0.250     xherdan-shaqiri       Left Midfielder    3147  0.376127   \n",
       "146027     0.125        zdenk-pospch        Right Fullback    3147  0.376127   \n",
       "\n",
       "         meanExp        bmi  redPerGame  winningRate  \n",
       "5       0.538462  21.434609         0.0          0.0  \n",
       "6       0.538462  22.877406         0.0          1.0  \n",
       "7       0.538462  20.987654         0.0          0.0  \n",
       "8       0.538462  21.477087         0.0          0.0  \n",
       "9       0.538462  21.604938         0.0          1.0  \n",
       "...          ...        ...         ...          ...  \n",
       "146022  0.498350  22.634676         0.0          0.0  \n",
       "146023  0.498350  21.146320         0.0          1.0  \n",
       "146024  0.498350  24.099723         0.0          0.0  \n",
       "146025  0.498350  25.209201         0.0          1.0  \n",
       "146027  0.498350  23.781213         0.0          0.0  \n",
       "\n",
       "[110462 rows x 9 columns]"
      ]
     },
     "execution_count": 168,
     "metadata": {},
     "output_type": "execute_result"
    }
   ],
   "source": [
    "df_fil"
   ]
  },
  {
   "cell_type": "code",
   "execution_count": 204,
   "metadata": {
    "scrolled": false
   },
   "outputs": [
    {
     "data": {
      "text/plain": [
       "array([8.15331161e-05, 9.06359012e-05, 9.84969434e-05, 8.48110551e-05,\n",
       "       3.95936038e-05, 5.74497862e-05, 1.00094019e-04, 9.87227894e-06,\n",
       "       5.50688275e-05, 8.62790689e-05, 1.67112729e-04, 4.37248669e-05,\n",
       "       3.47577702e-05, 1.74511260e-05, 6.21804213e-05, 6.03543653e-05,\n",
       "       9.43389270e-05, 9.61925690e-05, 6.07316503e-05])"
      ]
     },
     "execution_count": 204,
     "metadata": {},
     "output_type": "execute_result"
    }
   ],
   "source": [
    "def permutationForest_skincolor(n_permutations, n_splits, n_trees, n_min, data, y):\n",
    "    data_per = data.copy()\n",
    "    sqerr = []\n",
    "    for p in range(n_permutations):\n",
    "        data_per[:,0] = np.random.permutation(data[:,0])\n",
    "        sqerr.append(crossVal_RegressionForest(n_splits=10, n_trees=n_trees, n_min=n_min, data=data_per, y=y).mean())\n",
    "    \n",
    "    return(np.array(sqerr))\n",
    "\n",
    "\n",
    "regForest_sqerr_lie = crossVal_RegressionForest(n_splits=10, n_trees=10, n_min=100, data=data_lie, y=red_cards_frac_lie)\n",
    "\n",
    "regForest_sqerr_lie.mean() - permutationForest_skincolor(n_permutations=19, n_splits=10, n_trees=10, \n",
    "                                                     n_min=100, data=data_lie, y=red_cards_frac_lie)"
   ]
  },
  {
   "cell_type": "code",
   "execution_count": null,
   "metadata": {},
   "outputs": [],
   "source": []
  },
  {
   "cell_type": "markdown",
   "metadata": {
    "id": "AQ9zZj5PxmX4"
   },
   "source": [
    "## 2.5 Alternative hypotheses"
   ]
  },
  {
   "cell_type": "markdown",
   "metadata": {
    "id": "p-dIZ7aHxuvj"
   },
   "source": [
    "These leads us to generating an alternative hypothesis.\n",
    "Hypothesis: Some positions are more likely to receive red cards and players with darker skin are overrepresented in these positions."
   ]
  },
  {
   "cell_type": "code",
   "execution_count": 42,
   "metadata": {
    "colab": {
     "base_uri": "https://localhost:8080/",
     "height": 472
    },
    "id": "yS5IOU7vj9aC",
    "outputId": "3d378d32-2e32-407d-b2ef-50dc1a1da72b"
   },
   "outputs": [
    {
     "data": {
      "image/png": "[encoded data removed]",
      "text/plain": [
       "<Figure size 432x288 with 1 Axes>"
      ]
     },
     "metadata": {
      "tags": []
     },
     "output_type": "display_data"
    }
   ],
   "source": [
    "# compute the mean rate of red cards per game for each position\n",
    "position_cards = df[['position', 'redPerGame']].groupby('position').mean()\n",
    "position_cards.plot.bar(y='redPerGame')\n",
    "plt.title(\"Mean red card rates for the different positions\");"
   ]
  },
  {
   "cell_type": "markdown",
   "metadata": {
    "id": "9tbZ-RYnw3lL"
   },
   "source": [
    "From this plot we can see that there are indeed differences for the red card rates based on the position. This also agrees with our intuition that the goal keeper for example has the lowest red card rate. The Center Back has the highest red card rate among all positions.\n",
    "\n",
    "Now we want to investigate if there is a bias between skin color and position."
   ]
  },
  {
   "cell_type": "code",
   "execution_count": null,
   "metadata": {
    "id": "S3lv7AJOxS46"
   },
   "outputs": [],
   "source": [
    "# divide players into dark (skin color >= 0.5) and light (skin color < 0.5) and calculate how often they play certain positions\n",
    "df['Skincolor'] = np.where(df['skincolor'] >= 0.5, 'Dark', 'Light')\n",
    "sk_pos = df[['Skincolor', 'position']].groupby(['Skincolor', 'position']).size().to_frame('percentage')\n",
    "sk_pos = (sk_pos / sk_pos.groupby(level=0).sum()).reset_index()\n",
    "sk_pos = pd.DataFrame({'position': sk_pos.loc[sk_pos['Skincolor'] == 'Dark', 'position'].tolist(),\n",
    "                       'Dark': sk_pos.loc[sk_pos['Skincolor'] == 'Dark', 'percentage'].tolist(),\n",
    "                       'Light': sk_pos.loc[sk_pos['Skincolor'] == 'Light', 'percentage'].tolist() })"
   ]
  },
  {
   "cell_type": "code",
   "execution_count": 75,
   "metadata": {
    "colab": {
     "base_uri": "https://localhost:8080/",
     "height": 430
    },
    "id": "NlOFItwp0wyJ",
    "outputId": "3cb586f8-038f-4c17-a723-470317132c71"
   },
   "outputs": [
    {
     "data": {
      "image/png": "[encoded data removed]",
      "text/plain": [
       "<Figure size 432x288 with 1 Axes>"
      ]
     },
     "metadata": {
      "tags": []
     },
     "output_type": "display_data"
    }
   ],
   "source": [
    "# plot what percentage of dark/light players plays in a certain position\n",
    "plt.figure()\n",
    "x = np.arange(len(sk_pos))\n",
    "plt.bar(x,sk_pos['Dark'],width=0.25,label='Dark',color = 'black')\n",
    "plt.bar(x + 0.25,sk_pos['Light'],width=0.25,label='Light',color = 'lightgrey')\n",
    "plt.xticks(x + 0.25 / 2, sk_pos['position'],rotation=90)\n",
    "plt.legend()\n",
    "plt.show()"
   ]
  },
  {
   "cell_type": "markdown",
   "metadata": {
    "id": "7PPKlpvt5rji"
   },
   "source": [
    "From this plot we can see that especially for the position of goal keeper, which receives the least red cards, players with darker color are underrepresented. Also for the position of Attacking Midfielder, which has the second lowest red card rate, there is a higher percentage among players with lighter color."
   ]
  },
  {
   "cell_type": "code",
   "execution_count": null,
   "metadata": {},
   "outputs": [],
   "source": []
  },
  {
   "cell_type": "code",
   "execution_count": null,
   "metadata": {},
   "outputs": [],
   "source": []
  },
  {
   "cell_type": "code",
   "execution_count": null,
   "metadata": {},
   "outputs": [],
   "source": []
  },
  {
   "cell_type": "code",
   "execution_count": null,
   "metadata": {},
   "outputs": [],
   "source": []
  },
  {
   "cell_type": "code",
   "execution_count": null,
   "metadata": {},
   "outputs": [],
   "source": []
  },
  {
   "cell_type": "code",
   "execution_count": null,
   "metadata": {},
   "outputs": [],
   "source": []
  },
  {
   "cell_type": "code",
   "execution_count": null,
   "metadata": {
    "id": "qCs3Vi5Tk3yb"
   },
   "outputs": [],
   "source": []
  }
 ],
 "metadata": {
  "colab": {
   "collapsed_sections": [],
   "name": "red-cards-Daria.ipynb",
   "provenance": []
  },
  "kernelspec": {
   "display_name": "Python 3",
   "language": "python",
   "name": "python3"
  },
  "language_info": {
   "codemirror_mode": {
    "name": "ipython",
    "version": 3
   },
   "file_extension": ".py",
   "mimetype": "text/x-python",
   "name": "python",
   "nbconvert_exporter": "python",
   "pygments_lexer": "ipython3",
   "version": "3.7.9"
  }
 },
 "nbformat": 4,
 "nbformat_minor": 1
}
